{
 "cells": [
  {
   "cell_type": "code",
   "execution_count": 1,
   "metadata": {},
   "outputs": [],
   "source": [
    "import  time\n",
    "import numpy as np\n",
    "import pandas as pd\n",
    "import sys\n",
    "# for FieldMax powermeter dll wrapper\n",
    "from pyFieldMaxII.fieldmax import fieldmax\n",
    "#import visa for device connection\n",
    "import pyvisa\n",
    "import pyvisa_py\n",
    "import usb\n",
    "import usb.core\n",
    "import usb.util\n",
    "#import Thorlabs powermeter script wrapper\n",
    "from ThorlabsPM100 import ThorlabsPM100"
   ]
  },
  {
   "cell_type": "markdown",
   "metadata": {},
   "source": [
    "### connecting power meters"
   ]
  },
  {
   "cell_type": "code",
   "execution_count": 2,
   "metadata": {},
   "outputs": [
    {
     "name": "stdout",
     "output_type": "stream",
     "text": [
      "1126C18R\n",
      "FM2 Connected and initial reading:  0.07578156888484955\n"
     ]
    }
   ],
   "source": [
    "#-------FieldMaxII connection--------------\n",
    "path_to_fm2 = r'C:\\Program Files (x86)\\Coherent\\FieldMaxII PC\\Drivers\\Win10\\FieldMax2Lib\\x64\\FieldMax2Lib.dll'\n",
    "fm2 = fieldmax.FieldMax(path_to_fm2)\n",
    "fm2.openDriver()\n",
    "print(fm2.get_SerialNumber())\n",
    "#sync??? what is this for\n",
    "fm2.sync()\n",
    "print('FM2 Connected and initial reading: ', fm2.get_dataPoint())"
   ]
  },
  {
   "cell_type": "code",
   "execution_count": 3,
   "metadata": {},
   "outputs": [
    {
     "name": "stdout",
     "output_type": "stream",
     "text": [
      "FM2 Connected and initial reading:  0.07628145068883896\n"
     ]
    }
   ],
   "source": [
    "\n",
    "print('FM2 Connected and initial reading: ', fm2.get_dataPoint())"
   ]
  },
  {
   "cell_type": "code",
   "execution_count": null,
   "metadata": {},
   "outputs": [],
   "source": [
    "# #--------ThorlabsPM100 powermeter connection ---\n",
    "# #https://github.com/clade/ThorlabsPM100/blob/master/ThorlabsPM100/ThorlabsPM100.py\n",
    "\n",
    "# #select python backend and get connected devices on the PC (basically)\n",
    "# rm = pyvisa.ResourceManager('@py')\n",
    "# #choose the powermeter !!the adress changes when switching USB connections, identifiable if opened in DevicesManager - Properties - Details - Location Information (or somewhere there, also not 1 to 1 the same adress - have to select from rm.list_resources())\n",
    "# #print(rm.list_resources())\n",
    "# inst = rm.open_resource('USB0::0x1313::0x8072::P2010300::0::INSTR') \n",
    "# th100 = ThorlabsPM100(inst=inst)\n",
    "# inst.timeout = None\n",
    "\n",
    "# th100.configure.scalar.power() #choose power measurements\n",
    "# th100.sense.correction.wavelength = 1035 #set wavelength\n",
    "# print(\"Wavelength :\", th100.sense.correction.wavelength)\n",
    "# print(\"Measurement type :\", th100.getconfigure)\n",
    "# print(\"TH100 connected and initial reading: \", th100.read)"
   ]
  },
  {
   "cell_type": "code",
   "execution_count": null,
   "metadata": {},
   "outputs": [],
   "source": [
    "# rm = pyvisa.ResourceManager('@py')\n",
    "# #print(rm.list_resources())\n",
    "# inst = rm.open_resource('USB0::0x1313::0x8072::P2010300::0::INSTR')\n",
    "# power_meter = ThorlabsPM100(inst=inst)\n",
    "# inst.timeout = None\n",
    "\n",
    "# power_meter.configure.scalar.power()\n",
    "# power_meter.sense.correction.wavelength = 1035\n",
    "# print(\"Wavelength :\", power_meter.sense.correction.wavelength)\n",
    "# print(\"Measurement type :\", power_meter.getconfigure)\n",
    "# print(\"Current value    :\", power_meter.read)\n",
    "\n",
    "# print(inst.query(\"*IDN?\"))\n",
    "# print(rm)\n",
    "# print(inst)"
   ]
  },
  {
   "cell_type": "markdown",
   "metadata": {},
   "source": [
    "### connecting rotor"
   ]
  },
  {
   "cell_type": "code",
   "execution_count": 4,
   "metadata": {},
   "outputs": [],
   "source": [
    "import pathlib\n",
    "import os\n",
    "import time\n",
    "import libximc.highlevel as ximc"
   ]
  },
  {
   "cell_type": "code",
   "execution_count": null,
   "metadata": {},
   "outputs": [],
   "source": [
    "# Devices search\n",
    "devices = ximc.enumerate_devices(\n",
    "    ximc.EnumerateFlags.ENUMERATE_NETWORK |\n",
    "    ximc.EnumerateFlags.ENUMERATE_PROBE\n",
    ")\n",
    "\n",
    "if len(devices) == 0:\n",
    "    print(\"The real devices were not found.\")\n",
    "else:\n",
    "    # Print real devices list\n",
    "    print(\"Found {} real device(s):\".format(len(devices)))\n",
    "    for device in devices:\n",
    "        print(\"  {}\".format(device))"
   ]
  },
  {
   "cell_type": "code",
   "execution_count": 35,
   "metadata": {},
   "outputs": [],
   "source": [
    "# device_uri = \"xi-emu:///{}\".format(virtual_device_file_path)\n",
    "device_uri = r\"xi-com:\\\\.\\COM3\" #for usb in our case\n",
    "# device_uri = r\"xi-com:///dev/ttyACM29\"\n",
    "# device_uri = \"xi-tcp://172.16.131.140:1820\"\n",
    "# device_uri = \"xi-net://192.168.1.120/abcd\""
   ]
  },
  {
   "cell_type": "code",
   "execution_count": 36,
   "metadata": {},
   "outputs": [],
   "source": [
    "# making a rotor object \n",
    "rotor = ximc.Axis(device_uri)\n",
    "# To open the connection, you must manually call `open_device()` method"
   ]
  },
  {
   "cell_type": "markdown",
   "metadata": {},
   "source": [
    "### zeroing"
   ]
  },
  {
   "cell_type": "code",
   "execution_count": null,
   "metadata": {},
   "outputs": [],
   "source": [
    "rotor.open_device()\n",
    "print('current position', rotor.get_position())\n",
    "print('moving rotor to reference zero', rotor.command_move(0,0))\n",
    "rotor.close_device()"
   ]
  },
  {
   "cell_type": "code",
   "execution_count": null,
   "metadata": {},
   "outputs": [],
   "source": [
    "# #FieldmaxII Zeroing\n",
    "# fm2.zeroing()\n",
    "# print('fm2 zeroed and reading:', fm2.get_dataPoint())\n",
    "\n",
    "#Thorlabs zeroing, Performs zero adjustment routine \n",
    "th100.sense.correction.collect.zero.initiate()\n",
    "print('th100 zeroed, ', th100.sense.correction.collect.zero.state)\n",
    "print('th100 zero magnitude', th100.sense.correction.collect.zero.magnitude)\n"
   ]
  },
  {
   "cell_type": "markdown",
   "metadata": {},
   "source": [
    "### spaghetti code for measurement"
   ]
  },
  {
   "cell_type": "code",
   "execution_count": 4,
   "metadata": {},
   "outputs": [],
   "source": [
    "#globals for choosing the power meter type, \n",
    "which_pwmeter = 'fm2'\n",
    "power_meter_treshold = 300e-3 #Watts, the max range of TH100 and min working of FM2\n",
    "N = 10 #measurement points at each step"
   ]
  },
  {
   "cell_type": "code",
   "execution_count": 18,
   "metadata": {},
   "outputs": [
    {
     "name": "stdout",
     "output_type": "stream",
     "text": [
      "0\n",
      "FM2 Connected and initial reading:  [0.0759815201163292, 0.0759815201163292, 0.07638142257928848, 0.07618147134780884, 0.07478181272745132, 0.07348213344812393, 0.07578156888484955, 0.07588154822587967]\n",
      "FM2 Connected and initial reading:  0.07628145068883896\n",
      "1\n",
      "FM2 Connected and initial reading:  [0.07618147134780884, 0.07638142257928848, 0.07628145068883896, 0.07658137381076813, 0.07658137381076813, 0.07618147134780884, 0.07618147134780884, 0.07618147134780884]\n",
      "FM2 Connected and initial reading:  0.07638142257928848\n",
      "2\n",
      "FM2 Connected and initial reading:  [0.0764814019203186, 0.0764814019203186, 0.07628145068883896, 0.07618147134780884, 0.07618147134780884, 0.07608149945735931, 0.07608149945735931, 0.07638142257928848]\n",
      "FM2 Connected and initial reading:  0.07758113741874695\n",
      "3\n",
      "FM2 Connected and initial reading:  [0.0764814019203186, 0.07518171519041061, 0.07608149945735931, 0.07608149945735931, 0.07638142257928848, 0.07618147134780884, 0.07608149945735931, 0.07628145068883896]\n",
      "FM2 Connected and initial reading:  0.07658137381076813\n",
      "4\n",
      "FM2 Connected and initial reading:  [0.07618147134780884, 0.07608149945735931, 0.07618147134780884, 0.07628145068883896, 0.07628145068883896, 0.07618147134780884, 0.07458186149597168, 0.07608149945735931]\n",
      "FM2 Connected and initial reading:  0.07608149945735931\n",
      "5\n",
      "FM2 Connected and initial reading:  [0.07628145068883896, 0.07618147134780884, 0.07488179206848145, 0.07618147134780884, 0.07638142257928848, 0.07608149945735931, 0.0759815201163292, 0.07608149945735931]\n",
      "FM2 Connected and initial reading:  0.07618147134780884\n",
      "6\n",
      "FM2 Connected and initial reading:  [0.07638142257928848, 0.0764814019203186, 0.0764814019203186, 0.07628145068883896, 0.0764814019203186, 0.07788106054067612, 0.0764814019203186, 0.07638142257928848]\n",
      "FM2 Connected and initial reading:  0.07638142257928848\n",
      "7\n",
      "FM2 Connected and initial reading:  [0.07628145068883896, 0.07638142257928848, 0.07618147134780884, 0.07608149945735931, 0.07628145068883896, 0.0764814019203186, 0.07658137381076813, 0.0764814019203186]\n",
      "FM2 Connected and initial reading:  0.0764814019203186\n",
      "8\n",
      "FM2 Connected and initial reading:  [0.0768813043832779, 0.0768813043832779, 0.07668135315179825, 0.07668135315179825, 0.0764814019203186, 0.0764814019203186, 0.0768813043832779, 0.0768813043832779]\n",
      "FM2 Connected and initial reading:  0.07608149945735931\n",
      "9\n",
      "FM2 Connected and initial reading:  [0.0764814019203186, 0.0764814019203186, 0.07608149945735931, 0.07608149945735931, 0.07638142257928848, 0.07638142257928848, 0.07628145068883896, 0.07628145068883896]\n",
      "FM2 Connected and initial reading:  0.07608149945735931\n",
      "10\n",
      "FM2 Connected and initial reading:  [0.07618147134780884, 0.07618147134780884, 0.07608149945735931, 0.07608149945735931, 0.07608149945735931, 0.07608149945735931, 0.07608149945735931, 0.07608149945735931]\n",
      "FM2 Connected and initial reading:  0.0764814019203186\n",
      "11\n",
      "FM2 Connected and initial reading:  [0.07668135315179825, 0.07668135315179825, 0.0, 0.0, 0.0, 0.0, 0.0, 0.0]\n",
      "FM2 Connected and initial reading:  0.07498176395893097\n",
      "12\n",
      "FM2 Connected and initial reading:  [0.07638142257928848, 0.07638142257928848, 0.0, 0.0, 0.0, 0.0, 0.0, 0.0]\n",
      "FM2 Connected and initial reading:  0.07608149945735931\n",
      "13\n",
      "FM2 Connected and initial reading:  [0.07618147134780884, 0.07618147134780884, 0.0, 0.0, 0.0, 0.0, 0.0, 0.0]\n",
      "FM2 Connected and initial reading:  0.07478181272745132\n",
      "14\n"
     ]
    },
    {
     "ename": "KeyboardInterrupt",
     "evalue": "",
     "output_type": "error",
     "traceback": [
      "\u001b[1;31m---------------------------------------------------------------------------\u001b[0m",
      "\u001b[1;31mKeyboardInterrupt\u001b[0m                         Traceback (most recent call last)",
      "Cell \u001b[1;32mIn[18], line 4\u001b[0m\n\u001b[0;32m      2\u001b[0m \u001b[38;5;28;01mfor\u001b[39;00m i \u001b[38;5;129;01min\u001b[39;00m \u001b[38;5;28mrange\u001b[39m(\u001b[38;5;241m20\u001b[39m):\n\u001b[0;32m      3\u001b[0m     \u001b[38;5;28mprint\u001b[39m(i)\n\u001b[1;32m----> 4\u001b[0m     \u001b[43mfm2\u001b[49m\u001b[38;5;241;43m.\u001b[39;49m\u001b[43msync\u001b[49m\u001b[43m(\u001b[49m\u001b[43m)\u001b[49m\n\u001b[0;32m      5\u001b[0m     \u001b[38;5;28mprint\u001b[39m(\u001b[38;5;124m'\u001b[39m\u001b[38;5;124mFM2 Connected and initial reading: \u001b[39m\u001b[38;5;124m'\u001b[39m, fm2\u001b[38;5;241m.\u001b[39mget_dataArray())\n\u001b[0;32m      6\u001b[0m     \u001b[38;5;28mprint\u001b[39m(\u001b[38;5;124m'\u001b[39m\u001b[38;5;124mFM2 Connected and initial reading: \u001b[39m\u001b[38;5;124m'\u001b[39m, fm2\u001b[38;5;241m.\u001b[39mget_dataPoint())\n",
      "File \u001b[1;32mc:\\Users\\thomas\\Documents\\GitHub\\Fieldmax\\pyFieldMaxII\\fieldmax\\fieldmax.py:52\u001b[0m, in \u001b[0;36mFieldMax.sync\u001b[1;34m(self)\u001b[0m\n\u001b[0;32m     50\u001b[0m dll_conn\u001b[38;5;241m.\u001b[39mrestype \u001b[38;5;241m=\u001b[39m c\u001b[38;5;241m.\u001b[39mc_int16\n\u001b[0;32m     51\u001b[0m dll_conn\u001b[38;5;241m.\u001b[39margtypes \u001b[38;5;241m=\u001b[39m [c\u001b[38;5;241m.\u001b[39mc_int32]\n\u001b[1;32m---> 52\u001b[0m \u001b[38;5;28;01mreturn\u001b[39;00m \u001b[43mdll_conn\u001b[49m\u001b[43m(\u001b[49m\u001b[38;5;241;43m0\u001b[39;49m\u001b[43m)\u001b[49m\n",
      "\u001b[1;31mKeyboardInterrupt\u001b[0m: "
     ]
    }
   ],
   "source": [
    "#with fm2 trying for speed\n",
    "for i in range(20):\n",
    "    print(i)\n",
    "    fm2.sync()\n",
    "    print('FM2 Connected and initial reading: ', fm2.get_dataArray())\n",
    "    print('FM2 Connected and initial reading: ', fm2.get_dataPoint())"
   ]
  },
  {
   "cell_type": "code",
   "execution_count": 5,
   "metadata": {},
   "outputs": [],
   "source": [
    "# function for measuring at a certain power meter type, flag is for noting down which steps need to be measured with th100 again\n",
    "# !!! this needs to be redone if A) the get_dataArray works, B) if we want to get N only after stabilization\n",
    "def measure(which_pwmeter = which_pwmeter, N = 10, flag_for_th100 = False):\n",
    "\n",
    "    #select the used power meter\n",
    "    power_meters = np.array([fm2, th100], dtype = object)\n",
    "    if which_pwmeter == 'fm2':\n",
    "        pw_meter = power_meters[0]\n",
    "        pw_meter_type = 0\n",
    "    else:\n",
    "        pw_meter = power_meters[1]\n",
    "        pw_meter_type = 1\n",
    "    \n",
    "    #initialize measurements array\n",
    "    measurements = np.zeros(N, dtype=float)\n",
    "    n = 0 \n",
    "    while n < N:\n",
    "        if pw_meter_type == 0: \n",
    "            measurements[n] = pw_meter.read\n",
    "        elif pw_meter_type == 1:\n",
    "            measurements[n] = pw_meter.getDataPoint()\n",
    "        n += 1\n",
    "    print(f'{N} datapoints measured on {which_pwmeter}')\n",
    "\n",
    "    #check which steps should be measured again at higher precision, with the TH100\n",
    "    th100_flagged = False\n",
    "    if flag_for_th100:\n",
    "        if measurements[-1] < power_meter_treshold:\n",
    "            th100_flagged = True\n",
    "            print(f'this step should be measured with the TH100 {measurements[-1]}')\n",
    "            return (th100_flagged, measurements)\n",
    "        \n",
    "    return measurements #np array floats length N\n"
   ]
  },
  {
   "cell_type": "code",
   "execution_count": null,
   "metadata": {},
   "outputs": [],
   "source": [
    "#external csv where all is written; for each Laser Intensity 1 csv file\n",
    "export_data = pd.DataFrame(columns= [\n",
    "    'rotor_step',\n",
    "    'raw_data',\n",
    "    'averaged'\n",
    "])\n",
    "\n",
    "#Measurement process\n",
    "\n",
    "steps = np.arange(100, 100000, 100) #defined rotor steps\n",
    "\n",
    "for i, step in enumerate(steps):\n",
    "    step  = int(step)\n",
    "    rotor.command_move(step, 0)\n",
    "    print('measuring, rotor moved to ', rotor.get_position())\n",
    "    raw_data = measure(which_pwmeter=which_pwmeter, N=N, flag_for_th100=False)\n",
    "    export_data.loc[i, 'step'] = step\n",
    "    export_data.loc[i, 'raw_data'] = raw_data\n",
    "    export_data.loc[i, 'averaged'] = np.average(raw_data)"
   ]
  },
  {
   "cell_type": "code",
   "execution_count": null,
   "metadata": {},
   "outputs": [],
   "source": [
    "#exporting the csv with the naming acc. to laser intensity\n",
    "laser_intensity = input('What is the laser setting: ')\n",
    "export_data.to_csv(f'measurements/measured_{laser_intensity}.csv', index=False)"
   ]
  },
  {
   "cell_type": "code",
   "execution_count": null,
   "metadata": {},
   "outputs": [],
   "source": [
    "#close drivers\n",
    "# fm2.closeDriver()\n",
    "rotor.close_device()\n",
    "\n",
    "#close th100? i think it auto closes once the object is trashed, but cant find the mention in docs"
   ]
  },
  {
   "cell_type": "code",
   "execution_count": 13,
   "metadata": {},
   "outputs": [],
   "source": [
    "#external csv where all is written; for each Laser Intensity 1 csv file\n",
    "export_data = pd.DataFrame(columns= [\n",
    "    'rotor_step',\n",
    "    'raw_data',\n",
    "    'averaged'\n",
    "])\n",
    "\n",
    "#Measurement process\n",
    "\n",
    "steps = np.arange(100, 100000, 100) #defined rotor steps\n",
    "\n",
    "for i, step in enumerate(steps):\n",
    "    step  = int(step)\n",
    "    raw_data = np.arange(0,10)\n",
    "    export_data.loc[i, 'step'] = step\n",
    "    export_data.at[i, 'raw_data'] = np.array(raw_data)\n",
    "    export_data.loc[i, 'averaged'] = np.average(raw_data)\n"
   ]
  },
  {
   "cell_type": "code",
   "execution_count": null,
   "metadata": {},
   "outputs": [],
   "source": []
  }
 ],
 "metadata": {
  "kernelspec": {
   "display_name": "Fieldmax",
   "language": "python",
   "name": "python3"
  },
  "language_info": {
   "codemirror_mode": {
    "name": "ipython",
    "version": 3
   },
   "file_extension": ".py",
   "mimetype": "text/x-python",
   "name": "python",
   "nbconvert_exporter": "python",
   "pygments_lexer": "ipython3",
   "version": "3.8.10"
  }
 },
 "nbformat": 4,
 "nbformat_minor": 2
}
