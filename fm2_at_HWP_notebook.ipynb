{
 "cells": [
  {
   "cell_type": "code",
   "execution_count": 1,
   "metadata": {},
   "outputs": [],
   "source": [
    "# imports\n",
    "\n",
    "import  time\n",
    "import numpy as np\n",
    "import pandas as pd\n",
    "# import sys\n",
    "# for FieldMax powermeter dll wrapper\n",
    "from pyFieldMaxII.fieldmax import fieldmax\n",
    "#import visa for device connection\n",
    "# import pyvisa\n",
    "# import pyvisa_py\n",
    "# import usb\n",
    "# import usb.core\n",
    "# import usb.util\n",
    "# import pathlib\n",
    "# import os\n",
    "import libximc.highlevel as ximc\n"
   ]
  },
  {
   "cell_type": "code",
   "execution_count": 2,
   "metadata": {},
   "outputs": [
    {
     "name": "stdout",
     "output_type": "stream",
     "text": [
      "1126C18R\n",
      "FM2 Connected and initial reading:  -0.03429166227579117\n",
      "Found 2 real device(s):\n",
      "  {'uri': 'xi-com:\\\\\\\\.\\\\COM3', 'device_serial': 12630, 'Manufacturer': 'XIMC', 'ManufacturerId': 'SM', 'ProductDescription': 'XISM-USB', 'Major': 2, 'Minor': 3, 'Release': 1, 'ControllerName': '', 'CtrlFlags': 1, 'PositionerName': '257nm'}\n",
      "  {'uri': 'xi-com:\\\\\\\\.\\\\COM5', 'device_serial': 13160, 'Manufacturer': 'XIMC', 'ManufacturerId': 'SM', 'ProductDescription': 'XISM-USB', 'Major': 2, 'Minor': 3, 'Release': 1, 'ControllerName': 'Axis 2', 'CtrlFlags': 0, 'PositionerName': ''}\n"
     ]
    }
   ],
   "source": [
    "\n",
    "#-------FieldMaxII connection--------------\n",
    "path_to_fm2 = r'C:\\Program Files (x86)\\Coherent\\FieldMaxII PC\\Drivers\\Win10\\FieldMax2Lib\\x64\\FieldMax2Lib.dll'\n",
    "fm2 = fieldmax.FieldMax(path_to_fm2)\n",
    "fm2.openDriver()\n",
    "print(fm2.get_SerialNumber())\n",
    "fm2.sync()\n",
    "print('FM2 Connected and initial reading: ', fm2.get_dataPoint())\n",
    "\n",
    "\n",
    "# connecting rotor\n",
    "# Devices search\n",
    "devices = ximc.enumerate_devices(\n",
    "    ximc.EnumerateFlags.ENUMERATE_NETWORK |\n",
    "    ximc.EnumerateFlags.ENUMERATE_PROBE\n",
    ")\n",
    "\n",
    "if len(devices) == 0:\n",
    "    print(\"The real devices were not found.\")\n",
    "else:\n",
    "    # Print real devices list\n",
    "    print(\"Found {} real device(s):\".format(len(devices)))\n",
    "    for device in devices:\n",
    "        print(\"  {}\".format(device))\n",
    "\n",
    "# device_uri = \"xi-emu:///{}\".format(virtual_device_file_path)\n",
    "device_uri = r\"xi-com:\\\\.\\COM5\" #for usb in our case\n",
    "# device_uri = r\"xi-com:///dev/ttyACM29\"\n",
    "# device_uri = \"xi-tcp://172.16.131.140:1820\"\n",
    "# device_uri = \"xi-net://192.168.1.120/abcd\"\n",
    "\n",
    "# making a rotor object \n",
    "rotor = ximc.Axis(device_uri)\n",
    "# To open the connection, you must manually call `open_device()` method\n"
   ]
  },
  {
   "cell_type": "code",
   "execution_count": 3,
   "metadata": {},
   "outputs": [
    {
     "name": "stdout",
     "output_type": "stream",
     "text": [
      "moving rotor to reference zero None\n",
      "current position Position: 0\n",
      "uPosition: 0\n",
      "EncPosition: 0\n",
      "\n"
     ]
    }
   ],
   "source": [
    "rotor.open_device()\n",
    "# print('current position', rotor.get_position())\n",
    "print('moving rotor to reference zero', rotor.command_move(0,0))\n",
    "print('current position', rotor.get_position())\n",
    "rotor.close_device()\n",
    "time.sleep(7)\n"
   ]
  },
  {
   "cell_type": "code",
   "execution_count": 5,
   "metadata": {},
   "outputs": [],
   "source": [
    "#external csv where all is written; for each Laser Intensity 1 csv file\n",
    "export_data = pd.DataFrame(columns= [\n",
    "    'rotor_step',\n",
    "    'raw_data',\n",
    "    'averaged',\n",
    "    'stdev'\n",
    "])"
   ]
  },
  {
   "cell_type": "code",
   "execution_count": 4,
   "metadata": {},
   "outputs": [],
   "source": [
    "N = 6*8"
   ]
  },
  {
   "cell_type": "code",
   "execution_count": 6,
   "metadata": {},
   "outputs": [],
   "source": [
    "# function for measuring at a certain power meter type, flag is for noting down which steps need to be measured with th100 again\n",
    "def measure(i=0, N = N, measurements = np.zeros((int(N/8), 8), dtype=float)):\n",
    "    while N > 0:\n",
    "        sleep_time = 0.8\n",
    "        meas = np.array(fm2.get_dataArray())\n",
    "        flag  = (np.any(meas == 0.0))\n",
    "        looping = 0\n",
    "        while flag:\n",
    "            print('zero in', i, meas)\n",
    "            if looping > 4:\n",
    "                # sleep_time += 0.1\n",
    "                time.sleep(1)\n",
    "            meas = np.array(fm2.get_dataArray())\n",
    "            flag  = np.any(meas == 0.0)\n",
    "            looping += 1\n",
    "        measurements[i] = meas\n",
    "        i += 1\n",
    "        N -= len(meas)\n",
    "        print(N)\n",
    "        time.sleep(sleep_time)\n",
    "\n",
    "    print(f'{i*8} datapoints measured on {fm2}')\n",
    "        \n",
    "    return measurements #np array floats length N"
   ]
  },
  {
   "cell_type": "code",
   "execution_count": 1,
   "metadata": {},
   "outputs": [
    {
     "ename": "NameError",
     "evalue": "name 'np' is not defined",
     "output_type": "error",
     "traceback": [
      "\u001b[0;31m---------------------------------------------------------------------------\u001b[0m",
      "\u001b[0;31mNameError\u001b[0m                                 Traceback (most recent call last)",
      "Cell \u001b[0;32mIn[1], line 3\u001b[0m\n\u001b[1;32m      1\u001b[0m \u001b[38;5;66;03m#Measurement process\u001b[39;00m\n\u001b[1;32m      2\u001b[0m \u001b[38;5;66;03m#36000 is full\u001b[39;00m\n\u001b[0;32m----> 3\u001b[0m steps \u001b[38;5;241m=\u001b[39m \u001b[43mnp\u001b[49m\u001b[38;5;241m.\u001b[39marange(\u001b[38;5;241m0\u001b[39m, \u001b[38;5;241m36000\u001b[39m, \u001b[38;5;241m2000\u001b[39m) \u001b[38;5;66;03m#defined rotor steps\u001b[39;00m\n\u001b[1;32m      4\u001b[0m laser_intensity \u001b[38;5;241m=\u001b[39m \u001b[38;5;28minput\u001b[39m(\u001b[38;5;124m'\u001b[39m\u001b[38;5;124mWhat is the laser setting: \u001b[39m\u001b[38;5;124m'\u001b[39m)\n\u001b[1;32m      5\u001b[0m rotor\u001b[38;5;241m.\u001b[39mopen_device()\n",
      "\u001b[0;31mNameError\u001b[0m: name 'np' is not defined"
     ]
    }
   ],
   "source": [
    "#Measurement process\n",
    "#36000 is full\n",
    "steps = np.arange(0, 36000, 2000) #defined rotor steps\n",
    "laser_intensity = input('What is the laser setting: ')\n",
    "rotor.open_device()"
   ]
  },
  {
   "cell_type": "code",
   "execution_count": null,
   "metadata": {},
   "outputs": [],
   "source": [
    "N = 6*8 #at each step\n",
    "steps = 10"
   ]
  },
  {
   "cell_type": "code",
   "execution_count": null,
   "metadata": {},
   "outputs": [],
   "source": [
    "for i, step in enumerate(steps):\n",
    "    # rotor.open_device()\n",
    "    step  = int(step)\n",
    "    rotor.command_move(step, 0)\n",
    "    # time.sleep(step /2000 + 2)\n",
    "    while step != rotor.get_position().Position:\n",
    "        time.sleep(0.5)\n",
    "    print('rotor moved to ', rotor.get_position())\n",
    "    raw_data = measure()\n",
    "    raw_data = np.array(raw_data.flatten(), dtype = float)\n",
    "    # print(raw_data)\n",
    "    export_data.loc[i, 'rotor_step'] = [rotor.get_position().Position, rotor.get_position().uPosition]\n",
    "    export_data.at[i, 'raw_data'] = raw_data\n",
    "    export_data.loc[i, 'averaged'] = np.average(raw_data)\n",
    "    export_data.loc[i, 'stdev'] = np.std(raw_data)\n",
    "    print(f'average power at step {step} is {np.average(raw_data)} with stdev {np.std(raw_data)}')\n",
    "    export_data.to_csv(f'measurements/measurements_after_HWP_fm2/measured_rf{laser_intensity}.csv', index=False)"
   ]
  },
  {
   "cell_type": "code",
   "execution_count": null,
   "metadata": {},
   "outputs": [],
   "source": [
    "#exporting the csv with the naming acc. to laser intensity\n",
    "export_data.to_csv(f'measurements/measurements_after_HWP_fm2/measured_rf{laser_intensity}.csv', index=False)\n",
    "\n",
    "#close drivers\n",
    "fm2.closeDriver()\n",
    "rotor.close_device()"
   ]
  }
 ],
 "metadata": {
  "kernelspec": {
   "display_name": "thesis",
   "language": "python",
   "name": "python3"
  },
  "language_info": {
   "codemirror_mode": {
    "name": "ipython",
    "version": 3
   },
   "file_extension": ".py",
   "mimetype": "text/x-python",
   "name": "python",
   "nbconvert_exporter": "python",
   "pygments_lexer": "ipython3",
   "version": "3.11.4"
  }
 },
 "nbformat": 4,
 "nbformat_minor": 2
}
