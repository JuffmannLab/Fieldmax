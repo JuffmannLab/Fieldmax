{
 "cells": [
  {
   "cell_type": "code",
   "execution_count": 1,
   "metadata": {},
   "outputs": [],
   "source": [
    "# imports\n",
    "\n",
    "import  time\n",
    "import numpy as np\n",
    "import pandas as pd\n",
    "# import sys\n",
    "# for FieldMax powermeter dll wrapper\n",
    "from pyFieldMaxII.fieldmax import fieldmax\n",
    "#import visa for device connection\n",
    "# import pyvisa\n",
    "# import pyvisa_py\n",
    "# import usb\n",
    "# import usb.core\n",
    "# import usb.util\n",
    "# import pathlib\n",
    "# import os\n",
    "import libximc.highlevel as ximc\n"
   ]
  },
  {
   "cell_type": "code",
   "execution_count": null,
   "metadata": {},
   "outputs": [
    {
     "name": "stdout",
     "output_type": "stream",
     "text": [
      "1126C18R\n"
     ]
    }
   ],
   "source": [
    "\n",
    "#-------FieldMaxII connection--------------\n",
    "path_to_fm2 = r'C:\\Program Files (x86)\\Coherent\\FieldMaxII PC\\Drivers\\Win10\\FieldMax2Lib\\x64\\FieldMax2Lib.dll'\n",
    "fm2 = fieldmax.FieldMax(path_to_fm2)\n",
    "fm2.openDriver()\n",
    "print(fm2.get_SerialNumber())\n",
    "fm2.sync()\n",
    "print('FM2 Connected and initial reading: ', fm2.get_dataPoint())\n",
    "\n",
    "\n",
    "# connecting rotor\n",
    "# Devices search\n",
    "devices = ximc.enumerate_devices(\n",
    "    ximc.EnumerateFlags.ENUMERATE_NETWORK |\n",
    "    ximc.EnumerateFlags.ENUMERATE_PROBE\n",
    ")\n",
    "\n",
    "if len(devices) == 0:\n",
    "    print(\"The real devices were not found.\")\n",
    "else:\n",
    "    # Print real devices list\n",
    "    print(\"Found {} real device(s):\".format(len(devices)))\n",
    "    for device in devices:\n",
    "        print(\"  {}\".format(device))\n",
    "\n",
    "# device_uri = \"xi-emu:///{}\".format(virtual_device_file_path)\n",
    "device_uri = r\"xi-com:\\\\.\\COM5\" #for usb in our case\n",
    "# device_uri = r\"xi-com:///dev/ttyACM29\"\n",
    "# device_uri = \"xi-tcp://172.16.131.140:1820\"\n",
    "# device_uri = \"xi-net://192.168.1.120/abcd\"\n",
    "\n",
    "# making a rotor object \n",
    "rotor = ximc.Axis(device_uri)\n",
    "# To open the connection, you must manually call `open_device()` method\n",
    "\n",
    "#--------------\n",
    "#zeroing of motor\n",
    "\n",
    "rotor.open_device()\n",
    "print('current position', rotor.get_position())\n",
    "print('moving rotor to reference zero', rotor.command_move(0,0))\n",
    "rotor.close_device()\n"
   ]
  },
  {
   "cell_type": "code",
   "execution_count": 3,
   "metadata": {},
   "outputs": [],
   "source": [
    "N = 20*8\n"
   ]
  },
  {
   "cell_type": "code",
   "execution_count": 4,
   "metadata": {},
   "outputs": [
    {
     "data": {
      "text/plain": [
       "160"
      ]
     },
     "execution_count": 4,
     "metadata": {},
     "output_type": "execute_result"
    }
   ],
   "source": [
    "20*8"
   ]
  },
  {
   "cell_type": "code",
   "execution_count": 5,
   "metadata": {},
   "outputs": [],
   "source": [
    "\n",
    "\n",
    "#external csv where all is written; for each Laser Intensity 1 csv file\n",
    "export_data = pd.DataFrame(columns= [\n",
    "    'rotor_step',\n",
    "    'raw_data',\n",
    "    'averaged',\n",
    "    'stdev'\n",
    "])"
   ]
  },
  {
   "cell_type": "code",
   "execution_count": 6,
   "metadata": {},
   "outputs": [],
   "source": [
    "\n",
    "# function for measuring at a certain power meter type, flag is for noting down which steps need to be measured with th100 again\n",
    "def measure(i=0, N = N, measurements = np.zeros((int(N/8), 8), dtype=float)):\n",
    "    while N > 0:\n",
    "        sleep_time = 0.8\n",
    "        meas = np.array(fm2.get_dataArray())\n",
    "        flag  = (np.any(meas == 0.0))\n",
    "        looping = 0\n",
    "        while flag:\n",
    "            print('zero in', i, meas)\n",
    "            if looping > 4:\n",
    "                # sleep_time += 0.1\n",
    "                time.sleep(1)\n",
    "            meas = np.array(fm2.get_dataArray())\n",
    "            flag  = np.any(meas == 0.0)\n",
    "            looping += 1\n",
    "        measurements[i] = meas\n",
    "        i += 1\n",
    "        N -= len(meas)\n",
    "        print(N)\n",
    "        time.sleep(sleep_time)\n",
    "\n",
    "    print(f'{i*8} datapoints measured on {fm2}')\n",
    "        \n",
    "    return measurements #np array floats length N"
   ]
  },
  {
   "cell_type": "code",
   "execution_count": 7,
   "metadata": {},
   "outputs": [
    {
     "name": "stdout",
     "output_type": "stream",
     "text": [
      "measuring, rotor moved to  Position: 137\n",
      "uPosition: 190\n",
      "EncPosition: 0\n",
      "\n",
      "152\n",
      "144\n",
      "136\n",
      "128\n",
      "120\n",
      "112\n",
      "104\n",
      "96\n",
      "88\n",
      "80\n",
      "72\n",
      "64\n",
      "56\n",
      "48\n",
      "40\n",
      "32\n",
      "24\n",
      "16\n",
      "8\n",
      "0\n",
      "160 datapoints measured on <pyFieldMaxII.fieldmax.fieldmax.FieldMax object at 0x0000025BAC1F6340>\n",
      "average power at step 0 is -0.03440975823905319 with stdev 0.0006499258149240217\n",
      "measuring, rotor moved to  Position: 0\n",
      "uPosition: 0\n",
      "EncPosition: 0\n",
      "\n",
      "152\n",
      "144\n",
      "136\n",
      "128\n",
      "120\n",
      "112\n",
      "104\n",
      "96\n",
      "88\n",
      "80\n",
      "72\n",
      "64\n",
      "56\n",
      "48\n",
      "40\n",
      "32\n",
      "24\n",
      "16\n",
      "8\n",
      "0\n",
      "160 datapoints measured on <pyFieldMaxII.fieldmax.fieldmax.FieldMax object at 0x0000025BAC1F6340>\n",
      "average power at step 200 is -0.03408608695026487 with stdev 0.0007051874497753483\n",
      "measuring, rotor moved to  Position: 200\n",
      "uPosition: 0\n",
      "EncPosition: 0\n",
      "\n",
      "152\n",
      "144\n",
      "136\n",
      "128\n",
      "120\n",
      "112\n",
      "104\n",
      "96\n",
      "88\n",
      "80\n",
      "72\n",
      "64\n",
      "56\n",
      "48\n",
      "40\n",
      "32\n",
      "24\n",
      "16\n",
      "8\n",
      "0\n",
      "160 datapoints measured on <pyFieldMaxII.fieldmax.fieldmax.FieldMax object at 0x0000025BAC1F6340>\n",
      "average power at step 400 is -0.03443037823308259 with stdev 0.0006643859310947014\n"
     ]
    }
   ],
   "source": [
    "rotor.open_device()\n",
    "#Measurement process\n",
    "#36000 is full\n",
    "steps = np.arange(0, 1200\n",
    "                  , 200) #defined rotor steps\n",
    "\n",
    "# rotor.open_device()\n",
    "for i, step in enumerate(steps):\n",
    "    time.sleep(1)\n",
    "    step  = int(step)\n",
    "    rotor.command_move(step, 0)\n",
    "    print('measuring, rotor moved to ', rotor.get_position())\n",
    "    raw_data = measure()\n",
    "    raw_data = np.array(raw_data.flatten(), dtype = float)\n",
    "    # print(raw_data)\n",
    "    export_data.loc[i, 'rotor_step'] = step\n",
    "    export_data.at[i, 'raw_data'] = raw_data\n",
    "    export_data.loc[i, 'averaged'] = np.average(raw_data)\n",
    "    export_data.loc[i, 'stdev'] = np.std(raw_data)\n",
    "    print(f'average power at step {step} is {np.average(raw_data)} with stdev {np.std(raw_data)}')\n",
    "    \n",
    "\n",
    "\n",
    "#exporting the csv with the naming acc. to laser intensity\n",
    "laser_intensity = input('What is the laser setting: ')\n",
    "export_data.to_csv(f'measurements/measurements_after_HWP_fm2/measured_rf{laser_intensity}.csv', index=False)\n",
    "\n",
    "#close drivers\n",
    "fm2.closeDriver()\n",
    "rotor.close_device()"
   ]
  },
  {
   "cell_type": "code",
   "execution_count": null,
   "metadata": {},
   "outputs": [],
   "source": []
  }
 ],
 "metadata": {
  "kernelspec": {
   "display_name": "Fieldmax",
   "language": "python",
   "name": "python3"
  },
  "language_info": {
   "codemirror_mode": {
    "name": "ipython",
    "version": 3
   },
   "file_extension": ".py",
   "mimetype": "text/x-python",
   "name": "python",
   "nbconvert_exporter": "python",
   "pygments_lexer": "ipython3",
   "version": "3.8.10"
  }
 },
 "nbformat": 4,
 "nbformat_minor": 2
}
