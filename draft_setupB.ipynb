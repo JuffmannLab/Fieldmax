{
 "cells": [
  {
   "cell_type": "code",
   "execution_count": 1,
   "metadata": {},
   "outputs": [],
   "source": [
    "import  time\n",
    "import numpy as np\n",
    "import pandas as pd\n",
    "# for FieldMax powermeter dll wrapper\n",
    "from pyFieldMaxII.fieldmax import fieldmax\n",
    "#import visa for device connection\n",
    "import pyvisa\n",
    "#import Thorlabs powermeter script wrapper\n",
    "from ThorlabsPM100 import ThorlabsPM100"
   ]
  },
  {
   "cell_type": "markdown",
   "metadata": {},
   "source": [
    "### connecting power meters"
   ]
  },
  {
   "cell_type": "code",
   "execution_count": 2,
   "metadata": {},
   "outputs": [
    {
     "name": "stdout",
     "output_type": "stream",
     "text": [
      "ERROR: DLL not found\n"
     ]
    },
    {
     "ename": "AttributeError",
     "evalue": "module 'ctypes' has no attribute 'windll'",
     "output_type": "error",
     "traceback": [
      "\u001b[0;31m---------------------------------------------------------------------------\u001b[0m",
      "\u001b[0;31mAttributeError\u001b[0m                            Traceback (most recent call last)",
      "Cell \u001b[0;32mIn[2], line 3\u001b[0m\n\u001b[1;32m      1\u001b[0m \u001b[38;5;66;03m#-------FieldMaxII connection--------------\u001b[39;00m\n\u001b[1;32m      2\u001b[0m path_to_fm2 \u001b[38;5;241m=\u001b[39m \u001b[38;5;124mr\u001b[39m\u001b[38;5;124m'\u001b[39m\u001b[38;5;124mC:\u001b[39m\u001b[38;5;124m\\\u001b[39m\u001b[38;5;124mProgram Files (x86)\u001b[39m\u001b[38;5;124m\\\u001b[39m\u001b[38;5;124mCoherent\u001b[39m\u001b[38;5;124m\\\u001b[39m\u001b[38;5;124mFieldMaxII PC\u001b[39m\u001b[38;5;124m\\\u001b[39m\u001b[38;5;124mDrivers\u001b[39m\u001b[38;5;124m\\\u001b[39m\u001b[38;5;124mWin10\u001b[39m\u001b[38;5;124m\\\u001b[39m\u001b[38;5;124mFieldMax2Lib\u001b[39m\u001b[38;5;124m\\\u001b[39m\u001b[38;5;124mx64\u001b[39m\u001b[38;5;124m\\\u001b[39m\u001b[38;5;124mFieldMax2Lib.dll\u001b[39m\u001b[38;5;124m'\u001b[39m\n\u001b[0;32m----> 3\u001b[0m fm2 \u001b[38;5;241m=\u001b[39m \u001b[43mfieldmax\u001b[49m\u001b[38;5;241;43m.\u001b[39;49m\u001b[43mFieldMax\u001b[49m\u001b[43m(\u001b[49m\u001b[43mpath_to_fm2\u001b[49m\u001b[43m)\u001b[49m\n\u001b[1;32m      4\u001b[0m fm2\u001b[38;5;241m.\u001b[39mopenDriver()\n\u001b[1;32m      5\u001b[0m \u001b[38;5;28mprint\u001b[39m(fm2\u001b[38;5;241m.\u001b[39mget_SerialNumber())\n",
      "File \u001b[0;32m~/thesis/fieldmax/pyFieldMaxII/fieldmax/fieldmax.py:12\u001b[0m, in \u001b[0;36mFieldMax.__init__\u001b[0;34m(self, dllPath)\u001b[0m\n\u001b[1;32m     10\u001b[0m \u001b[38;5;28;01mif\u001b[39;00m \u001b[38;5;129;01mnot\u001b[39;00m os\u001b[38;5;241m.\u001b[39mpath\u001b[38;5;241m.\u001b[39mexists(dllPath):\n\u001b[1;32m     11\u001b[0m     \u001b[38;5;28mprint\u001b[39m(\u001b[38;5;124m\"\u001b[39m\u001b[38;5;124mERROR: DLL not found\u001b[39m\u001b[38;5;124m\"\u001b[39m)\n\u001b[0;32m---> 12\u001b[0m \u001b[38;5;28mself\u001b[39m\u001b[38;5;241m.\u001b[39mo \u001b[38;5;241m=\u001b[39m \u001b[43mc\u001b[49m\u001b[38;5;241;43m.\u001b[39;49m\u001b[43mwindll\u001b[49m\u001b[38;5;241m.\u001b[39mLoadLibrary(dllPath)\n",
      "\u001b[0;31mAttributeError\u001b[0m: module 'ctypes' has no attribute 'windll'"
     ]
    }
   ],
   "source": [
    "#-------FieldMaxII connection--------------\n",
    "path_to_fm2 = r'C:\\Program Files (x86)\\Coherent\\FieldMaxII PC\\Drivers\\Win10\\FieldMax2Lib\\x64\\FieldMax2Lib.dll'\n",
    "fm2 = fieldmax.FieldMax(path_to_fm2)\n",
    "fm2.openDriver()\n",
    "print(fm2.get_SerialNumber())\n",
    "#sync??? what is this for\n",
    "fm2.sync()\n",
    "print('FM2 Connected and initial reading: ', fm2.get_dataPoint())"
   ]
  },
  {
   "cell_type": "code",
   "execution_count": null,
   "metadata": {},
   "outputs": [],
   "source": [
    "#--------ThorlabsPM100 powermeter connection ---\n",
    "#https://github.com/clade/ThorlabsPM100/blob/master/ThorlabsPM100/ThorlabsPM100.py\n",
    "\n",
    "#select python backend and get connected devices on the PC (basically)\n",
    "rm = pyvisa.ResourceManager('@py')\n",
    "#choose the powermeter !!the adress changes when switching USB connections, identifiable if opened in DevicesManager - Properties - Details - Location Information (or somewhere there, also not 1 to 1 the same adress - have to select from rm.list_resources())\n",
    "#print(rm.list_resources())\n",
    "inst = rm.open_resource('USB0::0x1313::0x8072::P2010300::0::INSTR') \n",
    "th100 = ThorlabsPM100(inst=inst)\n",
    "inst.timeout = None\n",
    "\n",
    "th100.configure.scalar.power() #choose power measurements\n",
    "th100.sense.correction.wavelength = 1035 #set wavelength\n",
    "print(\"Wavelength :\", th100.sense.correction.wavelength)\n",
    "print(\"Measurement type :\", th100.getconfigure)\n",
    "print(\"TH100 connected and initial reading: \", th100.read)"
   ]
  },
  {
   "cell_type": "markdown",
   "metadata": {},
   "source": [
    "### trying to make FM2 faster"
   ]
  },
  {
   "cell_type": "code",
   "execution_count": null,
   "metadata": {},
   "outputs": [],
   "source": [
    "print(fm2.get_dataArray())\n",
    "print('this should be 8 values')\n",
    "print('did this work:', len(fm2.get_dataArra)==8)"
   ]
  },
  {
   "cell_type": "markdown",
   "metadata": {},
   "source": [
    "### zeroing"
   ]
  },
  {
   "cell_type": "code",
   "execution_count": null,
   "metadata": {},
   "outputs": [],
   "source": [
    "#FieldmaxII Zeroing\n",
    "fm2.zeroing()\n",
    "print('fm2 zeroed and reading:', fm2.get_dataPoint())\n",
    "\n",
    "#Thorlabs zeroing, Performs zero adjustment routine \n",
    "th100.sense.correction.collect.zero.initiate()\n",
    "print('th100 zeroed, ', th100.sense.correction.collect.zero.state)\n",
    "print('th100 zero magnitude', th100.sense.correction.collect.zero.magnitude)\n"
   ]
  },
  {
   "cell_type": "markdown",
   "metadata": {},
   "source": [
    "### spaghetti code for measurement"
   ]
  },
  {
   "cell_type": "code",
   "execution_count": null,
   "metadata": {},
   "outputs": [],
   "source": [
    "#globals for choosing the power meter type, \n",
    "which_pwmeter = 'fm2'\n",
    "power_meter_treshold = 300e-3 #Watts, the max range of TH100 and min working of FM2\n",
    "N = 10 #measurement points at each step"
   ]
  },
  {
   "cell_type": "code",
   "execution_count": null,
   "metadata": {},
   "outputs": [],
   "source": [
    "# function for measuring at a certain power meter type, flag is for noting down which steps need to be measured with th100 again\n",
    "# !!! this needs to be redone if A) the get_dataArray works, B) if we want to get N only after stabilization\n",
    "def measure(which_pwmeter = which_pwmeter, N = 10, flag_for_th100 = False):\n",
    "\n",
    "    #select the used power meter\n",
    "    power_meters = np.array([fm2, th100], dtype = object)\n",
    "    if which_pwmeter == 'fm2':\n",
    "        pw_meter = power_meters[0]\n",
    "        pw_meter_type = 0\n",
    "    else:\n",
    "        pw_meter = power_meters[1]\n",
    "        pw_meter_type = 1\n",
    "    \n",
    "    #initialize measurements array\n",
    "    measurements = np.zeros(N, dtype=float)\n",
    "    n = 0 \n",
    "    while n < N:\n",
    "        if pw_meter_type == 0: \n",
    "            measurements[n] = pw_meter.read\n",
    "        elif pw_meter_type == 1:\n",
    "            measurements[n] = pw_meter.getDataPoint()\n",
    "        n += 1\n",
    "    print(f'{N} datapoints measured on {which_pwmeter}')\n",
    "\n",
    "    #check which steps should be measured again at higher precision, with the TH100\n",
    "    th100_flagged = False\n",
    "    if flag_for_th100:\n",
    "        if measurements[-1] < power_meter_treshold:\n",
    "            th100_flagged = True\n",
    "            print(f'this step should be measured with the TH100 {measurements[-1]}')\n",
    "            return (th100_flagged, measurements)\n",
    "        \n",
    "    return measurements #np array floats length N\n"
   ]
  },
  {
   "cell_type": "code",
   "execution_count": null,
   "metadata": {},
   "outputs": [],
   "source": [
    "#external csv where all is written; for each Laser Intensity 1 csv file\n",
    "export_data = pd.DataFrame(columns= [\n",
    "    'rotor_step',\n",
    "    'raw_data',\n",
    "    'averaged',\n",
    "    'flag_for_th100'\n",
    "])\n",
    "\n",
    "laser_intensity = input('What is the laser setting: ')\n",
    "\n",
    "#Measurement process\n",
    "\n",
    "steps = np.array() #defined rotor steps\n",
    "\n",
    "for i, step in enumerate(steps):\n",
    "    #!!! rotor.move(step)\n",
    "\n",
    "    flag, raw_data = measure(which_pwmeter=which_pwmeter, N=N, flag_for_th100=True)\n",
    "    export_data.loc[i, 'step'] = step\n",
    "    export_data.loc[i, 'raw_data'] = raw_data\n",
    "    export_data.loc[i, 'averaged'] = np.average(raw_data)\n",
    "    export_data.loc[i, 'flag_for_th100'] = flag"
   ]
  },
  {
   "cell_type": "code",
   "execution_count": null,
   "metadata": {},
   "outputs": [],
   "source": [
    "#exporting the csv with the naming acc. to laser intensity\n",
    "export_data.to_csv(f'measured_{laser_intensity}.csv', index=False)"
   ]
  },
  {
   "cell_type": "code",
   "execution_count": null,
   "metadata": {},
   "outputs": [],
   "source": [
    "#close drivers\n",
    "fm2.closeDriver()\n",
    "#close th100? i think it auto closes once the object is trashed, but cant find the mention in docs"
   ]
  }
 ],
 "metadata": {
  "kernelspec": {
   "display_name": "thesis",
   "language": "python",
   "name": "python3"
  },
  "language_info": {
   "codemirror_mode": {
    "name": "ipython",
    "version": 3
   },
   "file_extension": ".py",
   "mimetype": "text/x-python",
   "name": "python",
   "nbconvert_exporter": "python",
   "pygments_lexer": "ipython3",
   "version": "3.11.4"
  }
 },
 "nbformat": 4,
 "nbformat_minor": 2
}
