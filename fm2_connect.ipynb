{
 "cells": [
  {
   "cell_type": "code",
   "execution_count": null,
   "metadata": {},
   "outputs": [],
   "source": [
    "import  time\n",
    "import numpy as np\n",
    "import pandas as pd\n",
    "import sys\n",
    "# for FieldMax powermeter dll wrapper\n",
    "from pyFieldMaxII.fieldmax import fieldmax\n",
    "#import visa for device connection\n",
    "import pyvisa\n",
    "import pyvisa_py\n",
    "import usb\n",
    "import usb.core\n",
    "import usb.util\n",
    "#import Thorlabs powermeter script wrapper\n",
    "from ThorlabsPM100 import ThorlabsPM100\n"
   ]
  },
  {
   "cell_type": "code",
   "execution_count": null,
   "metadata": {},
   "outputs": [],
   "source": [
    "### connecting power meters\n",
    "#-------FieldMaxII connection--------------\n",
    "path_to_fm2 = r'C:\\Program Files (x86)\\Coherent\\FieldMaxII PC\\Drivers\\Win10\\FieldMax2Lib\\x64\\FieldMax2Lib.dll'\n",
    "fm2 = fieldmax.FieldMax(path_to_fm2)\n",
    "fm2.openDriver()\n",
    "print(fm2.get_SerialNumber())\n",
    "#sync??? what is this for\n",
    "fm2.sync()\n",
    "print('FM2 Connected and initial reading: ', fm2.get_dataPoint())"
   ]
  },
  {
   "cell_type": "code",
   "execution_count": null,
   "metadata": {},
   "outputs": [],
   "source": [
    "#testing get_array\n",
    "for i in range(10):\n",
    "    print(fm2.get_dataArray())\n",
    "    "
   ]
  },
  {
   "cell_type": "code",
   "execution_count": null,
   "metadata": {},
   "outputs": [],
   "source": []
  },
  {
   "cell_type": "code",
   "execution_count": null,
   "metadata": {},
   "outputs": [],
   "source": [
    "fm2.closeDriver()"
   ]
  }
 ],
 "metadata": {
  "kernelspec": {
   "display_name": "thesis",
   "language": "python",
   "name": "python3"
  },
  "language_info": {
   "name": "python",
   "version": "3.11.4"
  }
 },
 "nbformat": 4,
 "nbformat_minor": 2
}
